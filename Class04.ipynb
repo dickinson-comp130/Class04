{
 "cells": [
  {
   "cell_type": "markdown",
   "metadata": {},
   "source": [
    "# Class 04 - Types, Variables & Assignments \n",
    "**COMP130 - Introduction to Computing**  \n",
    "**Dickinson College**  "
   ]
  },
  {
   "cell_type": "markdown",
   "metadata": {},
   "source": [
    "### Names:"
   ]
  },
  {
   "cell_type": "markdown",
   "metadata": {},
   "source": []
  },
  {
   "cell_type": "markdown",
   "metadata": {
    "deletable": false,
    "editable": false,
    "run_control": {
     "frozen": true
    }
   },
   "source": [
    "### Variables & Assignments"
   ]
  },
  {
   "cell_type": "markdown",
   "metadata": {
    "deletable": false,
    "editable": false,
    "run_control": {
     "frozen": true
    }
   },
   "source": [
    "__Q1:__ What is a variable?"
   ]
  },
  {
   "cell_type": "markdown",
   "metadata": {},
   "source": []
  },
  {
   "cell_type": "markdown",
   "metadata": {
    "deletable": false,
    "editable": false,
    "run_control": {
     "frozen": true
    }
   },
   "source": [
    "__Q2:__ What type of statement creates a variable in Python?"
   ]
  },
  {
   "cell_type": "markdown",
   "metadata": {},
   "source": []
  },
  {
   "cell_type": "markdown",
   "metadata": {
    "deletable": false,
    "editable": false,
    "run_control": {
     "frozen": true
    }
   },
   "source": [
    "__Q3:__ What type of statement give a value to a variable in Python?"
   ]
  },
  {
   "cell_type": "markdown",
   "metadata": {},
   "source": []
  },
  {
   "cell_type": "markdown",
   "metadata": {
    "deletable": false,
    "editable": false,
    "run_control": {
     "frozen": true
    }
   },
   "source": [
    "__Q4:__ Write assignment statements in the code cell below that creates each of the following variables and gives them a sensible value.\n",
    "  - `age`\n",
    "  - `name`\n",
    "  - `radius`\n",
    "  - `price`"
   ]
  },
  {
   "cell_type": "code",
   "execution_count": null,
   "metadata": {},
   "outputs": [],
   "source": []
  },
  {
   "cell_type": "markdown",
   "metadata": {
    "deletable": false,
    "editable": false,
    "run_control": {
     "frozen": true
    }
   },
   "source": [
    "__Q5:__ Write print statements in the code cell below that displays the value of each of the variables that you created in __Q4__."
   ]
  },
  {
   "cell_type": "code",
   "execution_count": null,
   "metadata": {},
   "outputs": [],
   "source": []
  },
  {
   "cell_type": "markdown",
   "metadata": {
    "deletable": false,
    "editable": false,
    "run_control": {
     "frozen": true
    }
   },
   "source": [
    "__Q6__: Draw a *state diagram* showing the variables that you created in __Q4__ along with their values.  Use the technique you learned in Lab01 to put a picture of your diagram in the markdown cell below.  (i.e. Taking a picture of the drawing, e-mail it to yourself, copy the file to the Class04 folder, put markdown for the image into the cell. Recall that the markdown will be something like: `![Text description of MyPicture](MyPicture.jpeg)`"
   ]
  },
  {
   "cell_type": "markdown",
   "metadata": {},
   "source": []
  },
  {
   "cell_type": "markdown",
   "metadata": {
    "deletable": false,
    "editable": false,
    "run_control": {
     "frozen": true
    }
   },
   "source": [
    "__Q7__ Python has specific rules about what makes a legal variable name. Describe three different ways that a variable name might be illegal in python."
   ]
  },
  {
   "cell_type": "markdown",
   "metadata": {},
   "source": []
  },
  {
   "cell_type": "markdown",
   "metadata": {
    "deletable": false,
    "editable": false,
    "run_control": {
     "frozen": true
    }
   },
   "source": [
    "__Q8:__ What type of error occurs when you create a variable with an illegal name?  Add a code cell that illustrates this type of error."
   ]
  },
  {
   "cell_type": "markdown",
   "metadata": {},
   "source": []
  },
  {
   "cell_type": "markdown",
   "metadata": {
    "deletable": false,
    "editable": false,
    "run_control": {
     "frozen": true
    }
   },
   "source": [
    "__Q9:__ Sometimes it is useful to use more than one word in a variable name. For example, people have both first and last names, and both home and work addresses.  In the cell below define four variables for these values using more than one word in the variable name.  Assign each variable a value that makes sense.  Use the common Python programmer convention of separating multiple words in the name with an underscore ( __\\___ ) character."
   ]
  },
  {
   "cell_type": "code",
   "execution_count": null,
   "metadata": {},
   "outputs": [],
   "source": []
  },
  {
   "cell_type": "markdown",
   "metadata": {
    "deletable": false,
    "editable": false,
    "run_control": {
     "frozen": true
    }
   },
   "source": [
    "### Values and Types"
   ]
  },
  {
   "cell_type": "markdown",
   "metadata": {
    "deletable": false,
    "editable": false,
    "run_control": {
     "frozen": true
    }
   },
   "source": [
    "__Q10:__ What are the types of the values shown below? Add a code cell and use the `type` function if you are unsure or want to check your work.\n",
    "- 1\n",
    "- 27.5\n",
    "- \"Hello\"\n",
    "- 143.0\n",
    "- \"231.6\"\n",
    "- 'World'\n",
    "- '19'"
   ]
  },
  {
   "cell_type": "markdown",
   "metadata": {},
   "source": []
  },
  {
   "cell_type": "markdown",
   "metadata": {
    "deletable": false,
    "editable": false,
    "run_control": {
     "frozen": true
    }
   },
   "source": [
    "__Q11:__ In what two ways are values of type `str` (or *string*) designated in Python?"
   ]
  },
  {
   "cell_type": "markdown",
   "metadata": {},
   "source": []
  },
  {
   "cell_type": "markdown",
   "metadata": {
    "deletable": false,
    "editable": false,
    "run_control": {
     "frozen": true
    }
   },
   "source": [
    "__Q12:__ What characterizes a value of type `float` (or *floating point*)?"
   ]
  },
  {
   "cell_type": "markdown",
   "metadata": {},
   "source": []
  },
  {
   "cell_type": "markdown",
   "metadata": {
    "deletable": false,
    "editable": false,
    "run_control": {
     "frozen": true
    }
   },
   "source": [
    "__Q13:__ Do variables have types? What determines the type of a variable? Insert code cells to show how you verified your answer."
   ]
  },
  {
   "cell_type": "markdown",
   "metadata": {},
   "source": []
  },
  {
   "cell_type": "markdown",
   "metadata": {
    "deletable": false,
    "editable": false,
    "run_control": {
     "frozen": true
    }
   },
   "source": [
    "### Assignments, Variables and Expressions"
   ]
  },
  {
   "cell_type": "markdown",
   "metadata": {
    "deletable": false,
    "editable": false,
    "run_control": {
     "frozen": true
    }
   },
   "source": [
    "Recall that expressions in Python evaluate to a value. When you run that cell the code cell uses the Python interpreter to evaluate the expression and displays its value.  Because expressions have a value we are able to use any valid expression as the value on the right hand side of an assignment. The variable on the left is then given the value to which the expression evaluates.  For example, the assignment statement `total=1+4+7` assigns the value `12` to the variable `total`."
   ]
  },
  {
   "cell_type": "markdown",
   "metadata": {
    "deletable": false,
    "editable": false,
    "run_control": {
     "frozen": true
    }
   },
   "source": [
    "__Q14__: Write an assignment statement that sets the value of a variable named `area` to the area of a rectangle with sides of length 5 and 12.  Add a `print` statement after your assignment statement to display the value of the `area` variable."
   ]
  },
  {
   "cell_type": "code",
   "execution_count": null,
   "metadata": {},
   "outputs": [],
   "source": []
  },
  {
   "cell_type": "markdown",
   "metadata": {
    "deletable": false,
    "editable": false,
    "run_control": {
     "frozen": true
    }
   },
   "source": [
    "The [four-number 24 game](https://www.4nums.com) has been a popular math activity in US elementary schools as a fun way to build problem solving skills.  In this game the player is given 4 integer values and must use those values along with the four basic mathematical operations (`+`,`-`,`*` and `/`) to create an expression that evaluates to the value 24.  For example:\n",
    "- Given the numbers: 8, 6, 4, 3\n",
    "- Three possible solutions are:\n",
    "  - `(8-6) * 4 * 3`\n",
    "  - `((4*3) - 8) * 6`\n",
    "  - `(8 - (6/3)) * 4`\n",
    "\n",
    "For each of the the following questions write an assignment statement that uses the four given values to assign the value 24 to a variable and then print the value of that variable.  Because this is Python, you will also need to use the two extra (//, %) Python operators in your expressions."
   ]
  },
  {
   "cell_type": "markdown",
   "metadata": {
    "deletable": false,
    "editable": false,
    "run_control": {
     "frozen": true
    }
   },
   "source": [
    "__Q15:__ 8, 6, 4, 3"
   ]
  },
  {
   "cell_type": "code",
   "execution_count": null,
   "metadata": {},
   "outputs": [],
   "source": []
  },
  {
   "cell_type": "markdown",
   "metadata": {
    "deletable": false,
    "editable": false,
    "run_control": {
     "frozen": true
    }
   },
   "source": [
    "__Q16:__ 13, 4, 7, 3  (Hint: you'll neee to use `\\\\`)"
   ]
  },
  {
   "cell_type": "code",
   "execution_count": null,
   "metadata": {},
   "outputs": [],
   "source": []
  },
  {
   "cell_type": "markdown",
   "metadata": {
    "deletable": false,
    "editable": false,
    "run_control": {
     "frozen": true
    }
   },
   "source": [
    "__Q17:__ 10, 5, 6, 5 (Hint: you'll need to use `%`)"
   ]
  },
  {
   "cell_type": "code",
   "execution_count": null,
   "metadata": {},
   "outputs": [],
   "source": []
  },
  {
   "cell_type": "markdown",
   "metadata": {
    "deletable": false,
    "editable": false,
    "run_control": {
     "frozen": true
    }
   },
   "source": [
    "Notice that what expressions do is manipulate values to produce another value. Variables have values. So, it is possible to use the values of variables in other expressions. For example, consider the Python statements in the following code cell.  They compute and print the area of a triangle with with side lengths given by `side_a` and `side_b`. Try running the code cell.  Then change the values of `side_a` and `side_b` and run it again."
   ]
  },
  {
   "cell_type": "code",
   "execution_count": 45,
   "metadata": {},
   "outputs": [
    {
     "name": "stdout",
     "output_type": "stream",
     "text": [
      "27.5\n"
     ]
    }
   ],
   "source": [
    "side_a=5\n",
    "side_b=9\n",
    "triangle_area=(a*b)/2\n",
    "print(triangle_area)"
   ]
  },
  {
   "cell_type": "markdown",
   "metadata": {
    "deletable": false,
    "editable": false,
    "run_control": {
     "frozen": true
    }
   },
   "source": [
    "__Q18:__ Write python statements similar to those above that computes and prints the perimiter of a hexagon with side length 7.  Be sure to use descriptive variable names."
   ]
  },
  {
   "cell_type": "code",
   "execution_count": null,
   "metadata": {},
   "outputs": [],
   "source": []
  },
  {
   "cell_type": "markdown",
   "metadata": {
    "deletable": false,
    "editable": false,
    "run_control": {
     "frozen": true
    }
   },
   "source": [
    "__Q19:__ Write python statements that compute and display the number of minutes in 5 years, 13 days and 6 hours.  Use as many descriptive variables as you want to make your program easy to understand.  You may ignore leap years."
   ]
  },
  {
   "cell_type": "code",
   "execution_count": null,
   "metadata": {},
   "outputs": [],
   "source": []
  },
  {
   "cell_type": "markdown",
   "metadata": {
    "deletable": false,
    "editable": false,
    "run_control": {
     "frozen": true
    }
   },
   "source": [
    "__Q20:__ Consider the Python statements in the code cell below.  They compute the same result as you were asked to compute in __Q19__.  Does it matter to the Python Interpreter what names you use for your variables? Which of the programs, yours in __Q19__ or the one below would be easier for another programmer (possibly even you a few weeks or months from now) to understand?"
   ]
  },
  {
   "cell_type": "code",
   "execution_count": 42,
   "metadata": {
    "deletable": false,
    "editable": false
   },
   "outputs": [],
   "source": [
    "x=5\n",
    "y=13\n",
    "z=6\n",
    "n=5*365*24*60 + 13*24*60 + 6*60\n",
    "print(n)"
   ]
  },
  {
   "cell_type": "markdown",
   "metadata": {},
   "source": []
  },
  {
   "cell_type": "markdown",
   "metadata": {
    "deletable": false,
    "editable": false,
    "run_control": {
     "frozen": true
    }
   },
   "source": [
    "__Q21:__ Give at least two reasons why it is beneficial to use descriptive variables in your programs."
   ]
  },
  {
   "cell_type": "markdown",
   "metadata": {},
   "source": []
  },
  {
   "cell_type": "markdown",
   "metadata": {
    "deletable": false,
    "editable": false,
    "run_control": {
     "frozen": true
    }
   },
   "source": [
    "### Optional Exercises"
   ]
  },
  {
   "cell_type": "markdown",
   "metadata": {
    "deletable": false,
    "editable": false,
    "run_control": {
     "frozen": true
    }
   },
   "source": [
    "__E1:__ Write Python statements that compute and print the temperature in degrees Celsius that corresponds to 28.4 degrees Fahrenheit. Be sure to use variable names that make your program easier to understand."
   ]
  },
  {
   "cell_type": "code",
   "execution_count": null,
   "metadata": {},
   "outputs": [],
   "source": []
  },
  {
   "cell_type": "markdown",
   "metadata": {
    "deletable": false,
    "editable": false,
    "run_control": {
     "frozen": true
    }
   },
   "source": [
    "__E2:__ Write Python statements that compute and print the temperature in degrees Kelvin that corresponds to 28.4 degrees Fahrenheit. Be sure to use variable names that make your program easier to understand."
   ]
  },
  {
   "cell_type": "code",
   "execution_count": null,
   "metadata": {},
   "outputs": [],
   "source": []
  },
  {
   "cell_type": "markdown",
   "metadata": {
    "deletable": false,
    "editable": false,
    "run_control": {
     "frozen": true
    }
   },
   "source": [
    "__E3:__ Repeat __Q19__ assuming a leap year occurs exactly every 4 years (which [isn't exactly right](https://www.timeanddate.com/date/leapyear.html).)"
   ]
  },
  {
   "cell_type": "code",
   "execution_count": null,
   "metadata": {},
   "outputs": [],
   "source": []
  }
 ],
 "metadata": {
  "kernelspec": {
   "display_name": "Python 3",
   "language": "python",
   "name": "python3"
  },
  "language_info": {
   "codemirror_mode": {
    "name": "ipython",
    "version": 3
   },
   "file_extension": ".py",
   "mimetype": "text/x-python",
   "name": "python",
   "nbconvert_exporter": "python",
   "pygments_lexer": "ipython3",
   "version": "3.7.3"
  }
 },
 "nbformat": 4,
 "nbformat_minor": 2
}
