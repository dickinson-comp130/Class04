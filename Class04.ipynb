{
 "cells": [
  {
   "cell_type": "markdown",
   "metadata": {
    "deletable": false,
    "editable": false,
    "run_control": {
     "frozen": true
    }
   },
   "source": [
    "# Class 04 - Types, Variables & Assignments \n",
    "**COMP130 - Introduction to Computing**  \n",
    "**Dickinson College**  "
   ]
  },
  {
   "cell_type": "markdown",
   "metadata": {},
   "source": [
    "### Names: "
   ]
  },
  {
   "cell_type": "markdown",
   "metadata": {},
   "source": [
    "Ada Lovelace, George Boole"
   ]
  },
  {
   "cell_type": "markdown",
   "metadata": {
    "deletable": false,
    "editable": false,
    "run_control": {
     "frozen": true
    }
   },
   "source": [
    "### Variables & Assignments"
   ]
  },
  {
   "cell_type": "markdown",
   "metadata": {
    "deletable": false,
    "editable": false,
    "run_control": {
     "frozen": true
    }
   },
   "source": [
    "__Q1:__ What is a variable?"
   ]
  },
  {
   "cell_type": "markdown",
   "metadata": {},
   "source": [
    "A variable is a name that refers to a value.\n",
    "\n",
    "The value to which the variable refers can be all sorts of things.\n",
    "\n",
    "While the name of the variable stays the same, the value to which it refers can change!"
   ]
  },
  {
   "cell_type": "markdown",
   "metadata": {
    "deletable": false,
    "editable": false,
    "run_control": {
     "frozen": true
    }
   },
   "source": [
    "__Q2:__ What type of statement creates a variable in Python?"
   ]
  },
  {
   "cell_type": "markdown",
   "metadata": {},
   "source": [
    "An *assignment statement* creates a variable in Python.\n",
    "\n",
    "By naming the variable on the left side of the assignment statement, you create the variable."
   ]
  },
  {
   "cell_type": "markdown",
   "metadata": {
    "deletable": false,
    "editable": false,
    "run_control": {
     "frozen": true
    }
   },
   "source": [
    "__Q3:__ What type of statement give a value to a variable in Python?"
   ]
  },
  {
   "cell_type": "markdown",
   "metadata": {},
   "source": [
    "An *assignment statement* gives a value to a variable in Python.\n",
    "\n",
    "By assigning a value to the right side of the assignment statement, you give that value to the named variable."
   ]
  },
  {
   "cell_type": "markdown",
   "metadata": {
    "deletable": false,
    "editable": false,
    "run_control": {
     "frozen": true
    }
   },
   "source": [
    "__Q4:__ Write assignment statements in the code cell below that creates each of the following variables and gives them a sensible value.\n",
    "  - `age`\n",
    "  - `name`\n",
    "  - `radius`\n",
    "  - `price`"
   ]
  },
  {
   "cell_type": "code",
   "execution_count": 5,
   "metadata": {},
   "outputs": [],
   "source": [
    "age = 4543000000 \n",
    "name = \"Planet Earth\"\n",
    "radius = 3958.8\n",
    "price = 9.99"
   ]
  },
  {
   "cell_type": "markdown",
   "metadata": {
    "deletable": false,
    "editable": false,
    "run_control": {
     "frozen": true
    }
   },
   "source": [
    "__Q5:__ Write print statements in the code cell below that displays the value of each of the variables that you created in __Q4__."
   ]
  },
  {
   "cell_type": "code",
   "execution_count": 8,
   "metadata": {},
   "outputs": [
    {
     "name": "stdout",
     "output_type": "stream",
     "text": [
      "I am 4543000000 years old.\n",
      "My name is Planet Earth .\n",
      "My radius is 3958.8 miles.\n",
      "You can have me for $ 9.99 .\n"
     ]
    }
   ],
   "source": [
    "print(\"I am\", age, \"years old.\")\n",
    "print(\"My name is\", name, \".\")\n",
    "print(\"My radius is\", radius, \"miles.\")\n",
    "print(\"You can have me for $\", price, \".\")"
   ]
  },
  {
   "cell_type": "markdown",
   "metadata": {
    "deletable": false,
    "editable": false,
    "run_control": {
     "frozen": true
    }
   },
   "source": [
    "__Q6__: Draw a *state diagram* showing the variables that you created in __Q4__ along with their values.  Use the technique you learned in Lab01 to put a picture of your diagram in the markdown cell below.  (i.e. Taking a picture of the drawing, e-mail it to yourself, copy the file to the Class04 folder, put markdown for the image into the cell. Recall that the markdown will be something like: `![Text description of MyPicture](MyPicture.jpeg)`"
   ]
  },
  {
   "cell_type": "markdown",
   "metadata": {},
   "source": [
    "![state diagram for Earth variables](stateDia.jpg)"
   ]
  },
  {
   "cell_type": "markdown",
   "metadata": {
    "deletable": false,
    "editable": false,
    "run_control": {
     "frozen": true
    }
   },
   "source": [
    "__Q7__ Python has specific rules about what makes a legal variable name. Describe three different ways that a variable name might be illegal in python."
   ]
  },
  {
   "cell_type": "markdown",
   "metadata": {},
   "source": [
    "1. The variable name could be one of Python's 33 *key words* (also known as *reserved words*), like *import*.\n",
    "2. The variable name might begin with a number, like *1stPlayer*.\n",
    "3. The variable might contain a character that is neither a number nor a letter, like *$price*.\n",
    "4. A blank space in a variable name will also be rejected by the interpreter.\n"
   ]
  },
  {
   "cell_type": "code",
   "execution_count": 50,
   "metadata": {},
   "outputs": [
    {
     "ename": "SyntaxError",
     "evalue": "invalid syntax (<ipython-input-50-1070970f791a>, line 1)",
     "output_type": "error",
     "traceback": [
      "\u001b[0;36m  File \u001b[0;32m\"<ipython-input-50-1070970f791a>\"\u001b[0;36m, line \u001b[0;32m1\u001b[0m\n\u001b[0;31m    my name = \"Legend\"\u001b[0m\n\u001b[0m          ^\u001b[0m\n\u001b[0;31mSyntaxError\u001b[0m\u001b[0;31m:\u001b[0m invalid syntax\n"
     ]
    }
   ],
   "source": [
    "my name = \"Legend\""
   ]
  },
  {
   "cell_type": "markdown",
   "metadata": {
    "deletable": false,
    "editable": false,
    "run_control": {
     "frozen": true
    }
   },
   "source": [
    "__Q8:__ What type of error occurs when you create a variable with an illegal name?  Add a code cell that illustrates this type of error."
   ]
  },
  {
   "cell_type": "markdown",
   "metadata": {},
   "source": [
    "A *syntax error* occurs when you try to create a variable with an illegal name.\n",
    "\n",
    "Your code will not run and the interpreter will inform you that your line contains *invalid syntax*."
   ]
  },
  {
   "cell_type": "code",
   "execution_count": 12,
   "metadata": {},
   "outputs": [
    {
     "ename": "SyntaxError",
     "evalue": "invalid syntax (<ipython-input-12-c821afafa8c0>, line 1)",
     "output_type": "error",
     "traceback": [
      "\u001b[0;36m  File \u001b[0;32m\"<ipython-input-12-c821afafa8c0>\"\u001b[0;36m, line \u001b[0;32m1\u001b[0m\n\u001b[0;31m    bo$ler_hall = \"language offices\"\u001b[0m\n\u001b[0m      ^\u001b[0m\n\u001b[0;31mSyntaxError\u001b[0m\u001b[0;31m:\u001b[0m invalid syntax\n"
     ]
    }
   ],
   "source": [
    "bo$ler_hall = \"language offices\""
   ]
  },
  {
   "cell_type": "markdown",
   "metadata": {
    "deletable": false,
    "editable": false,
    "run_control": {
     "frozen": true
    }
   },
   "source": [
    "__Q9:__ Sometimes it is useful to use more than one word in a variable name. For example, people have both first and last names, and both home and work addresses.  In the cell below define four variables for these values using more than one word in the variable name.  Assign each variable a value that makes sense.  Use the common Python programmer convention of separating multiple words in the name with an underscore ( __\\___ ) character."
   ]
  },
  {
   "cell_type": "code",
   "execution_count": 11,
   "metadata": {},
   "outputs": [],
   "source": [
    "name_first = \"Alan\"\n",
    "name_last = \"Turing\"\n",
    "addr_work = \"Bletchley Park\"\n",
    "addr_home = \"British £50 note\""
   ]
  },
  {
   "cell_type": "markdown",
   "metadata": {
    "deletable": false,
    "editable": false,
    "run_control": {
     "frozen": true
    }
   },
   "source": [
    "### Values and Types"
   ]
  },
  {
   "cell_type": "markdown",
   "metadata": {
    "deletable": false,
    "editable": false,
    "run_control": {
     "frozen": true
    }
   },
   "source": [
    "__Q10:__ What are the types of the values shown below? Add a code cell and use the `type` function if you are unsure or want to check your work.\n",
    "- 1\n",
    "- 27.5\n",
    "- \"Hello\"\n",
    "- 143.0\n",
    "- \"231.6\"\n",
    "- 'World'\n",
    "- '19'"
   ]
  },
  {
   "cell_type": "markdown",
   "metadata": {},
   "source": [
    "  * **1 is an *integer*.**\n",
    "  * **27.5 is a *float***, short for *floating point number*.\n",
    "  * **\"Hello\" is a *string*.** To the interpreter, it is simply a string of 5 characters.\n",
    "  * **143.0 is a *float*** because it contains a decimal value.\n",
    "  * **\"231.6\" is a *string*.** This string of 5 characters just happens to contain 4 numerals.\n",
    "  * **'World' is a *string*.** It doesn't matter if the string uses double quotes or single quotes.\n",
    "  * **'19' is a *string* of 2 numerals.** The interpreter cannot perform math operations on any string."
   ]
  },
  {
   "cell_type": "code",
   "execution_count": 35,
   "metadata": {},
   "outputs": [
    {
     "data": {
      "text/plain": [
       "int"
      ]
     },
     "execution_count": 35,
     "metadata": {},
     "output_type": "execute_result"
    }
   ],
   "source": [
    "type(1)"
   ]
  },
  {
   "cell_type": "code",
   "execution_count": 34,
   "metadata": {},
   "outputs": [
    {
     "data": {
      "text/plain": [
       "float"
      ]
     },
     "execution_count": 34,
     "metadata": {},
     "output_type": "execute_result"
    }
   ],
   "source": [
    "type(1)\n",
    "type(27.5)"
   ]
  },
  {
   "cell_type": "markdown",
   "metadata": {},
   "source": [
    "Notice in the example just above that the interpreter will only display the 2nd data type from the 2 statements.\n",
    "\n",
    "To display all 7 data types, you can use `print`:"
   ]
  },
  {
   "cell_type": "code",
   "execution_count": 25,
   "metadata": {},
   "outputs": [
    {
     "name": "stdout",
     "output_type": "stream",
     "text": [
      "<class 'int'>\n",
      "<class 'float'>\n",
      "<class 'str'>\n",
      "<class 'float'>\n",
      "<class 'str'>\n",
      "<class 'str'>\n",
      "<class 'str'>\n"
     ]
    }
   ],
   "source": [
    "print(type(1))\n",
    "print(type(27.5))\n",
    "print(type(\"Hello\"))\n",
    "print(type(143.0))\n",
    "print(type('231.6'))\n",
    "print(type('World'))\n",
    "print(type('19'))"
   ]
  },
  {
   "cell_type": "markdown",
   "metadata": {},
   "source": [
    "Note the tricks you would need to use if you wanted to display the values in their exact forms:"
   ]
  },
  {
   "cell_type": "code",
   "execution_count": 26,
   "metadata": {},
   "outputs": [
    {
     "name": "stdout",
     "output_type": "stream",
     "text": [
      "1 is <class 'int'> .\n",
      "27.5 is <class 'float'> .\n",
      "\"Hello\" is <class 'str'> .\n",
      "143.0 is <class 'float'> .\n",
      "'231.6' is <class 'str'> .\n",
      "'World' is <class 'str'> .\n",
      "'19' is <class 'str'> .\n"
     ]
    }
   ],
   "source": [
    "print(\"1 is\", type(1), \".\")\n",
    "print(\"27.5 is\", type(27.5), \".\")\n",
    "print('\"Hello\" is', type(\"Hello\"), \".\")\n",
    "print(\"143.0 is\", type(143.0), \".\")\n",
    "print(\"'231.6' is\", type('231.6'), \".\")\n",
    "print(\"'World' is\", type('World'), \".\")\n",
    "print(\"'19' is\", type('19'), \".\")"
   ]
  },
  {
   "cell_type": "markdown",
   "metadata": {
    "deletable": false,
    "editable": false,
    "run_control": {
     "frozen": true
    }
   },
   "source": [
    "__Q11:__ In what two ways are values of type `str` (or *string*) designated in Python?"
   ]
  },
  {
   "cell_type": "markdown",
   "metadata": {},
   "source": [
    "Strings are designated by characters within pairs of single quotes or double quotes:\n",
    "\n",
    "name_first = \"Evelyn\"\n",
    "name_last = 'Berezin'"
   ]
  },
  {
   "cell_type": "markdown",
   "metadata": {
    "deletable": false,
    "editable": false,
    "run_control": {
     "frozen": true
    }
   },
   "source": [
    "__Q12:__ What characterizes a value of type `float` (or *floating point*)?"
   ]
  },
  {
   "cell_type": "markdown",
   "metadata": {},
   "source": [
    "A *float* or *floating point number* always includes a decimal point in its value."
   ]
  },
  {
   "cell_type": "markdown",
   "metadata": {
    "deletable": false,
    "editable": false,
    "run_control": {
     "frozen": true
    }
   },
   "source": [
    "__Q13:__ Do variables have types? What determines the type of a variable? Insert code cells to show how you verified your answer."
   ]
  },
  {
   "cell_type": "code",
   "execution_count": 31,
   "metadata": {},
   "outputs": [
    {
     "data": {
      "text/plain": [
       "str"
      ]
     },
     "execution_count": 31,
     "metadata": {},
     "output_type": "execute_result"
    }
   ],
   "source": [
    "name_first = \"Evelyn\"\n",
    "name_last = 'Berezin'\n",
    "type(name_first)"
   ]
  },
  {
   "cell_type": "code",
   "execution_count": 32,
   "metadata": {},
   "outputs": [
    {
     "data": {
      "text/plain": [
       "int"
      ]
     },
     "execution_count": 32,
     "metadata": {},
     "output_type": "execute_result"
    }
   ],
   "source": [
    "age_at_death = 93\n",
    "type(age_at_death)\n"
   ]
  },
  {
   "cell_type": "markdown",
   "metadata": {},
   "source": [
    "A variable has the same data type as the value it has been assigned."
   ]
  },
  {
   "cell_type": "markdown",
   "metadata": {
    "deletable": false,
    "editable": false,
    "run_control": {
     "frozen": true
    }
   },
   "source": [
    "### Assignments, Variables and Expressions"
   ]
  },
  {
   "cell_type": "markdown",
   "metadata": {
    "deletable": false,
    "editable": false,
    "run_control": {
     "frozen": true
    }
   },
   "source": [
    "Recall that expressions in Python evaluate to a value. You can see this by running the code cell below.  When you run that cell the code cell uses the Python interpreter to evaluate the expression and displays its value.  Because expressions have a value we are able to use any valid expression as the value on the right hand side of an assignment. The variable on the left is then given the value to which the expression evaluates.  For example, the assignment statement `total=1+4+7` assigns the value `12` to the variable `total`."
   ]
  },
  {
   "cell_type": "markdown",
   "metadata": {
    "deletable": false,
    "editable": false,
    "run_control": {
     "frozen": true
    }
   },
   "source": [
    "__Q14__: Write an assignment statement that sets the value of a variable named `area` to the area of a rectangle with sides of length 5 and 12.  Add a `print` statement after your assignment statement to display the value of the `area` variable."
   ]
  },
  {
   "cell_type": "code",
   "execution_count": 33,
   "metadata": {},
   "outputs": [
    {
     "name": "stdout",
     "output_type": "stream",
     "text": [
      "60\n"
     ]
    }
   ],
   "source": [
    "area = 5 * 12\n",
    "print(area)"
   ]
  },
  {
   "cell_type": "markdown",
   "metadata": {
    "deletable": false,
    "editable": false,
    "run_control": {
     "frozen": true
    }
   },
   "source": [
    "The four-number 24 game has been a popular math activity in US elementary schools as a fun way to build problem solving skills.  In this game the player is given 4 integer values and must use those values along with the four basic mathematical operations (`+`,`-`,`*` and `/`) to create an expression that evaluates to the value 24.  For example:\n",
    "- Given the numbers: 8, 6, 4, 3\n",
    "- Three possible solutions are:\n",
    "  - `(8-6) * 4 * 3`\n",
    "  - `((4*3) - 8) * 6`\n",
    "  - `(8 - (6/3)) * 4`\n",
    "\n",
    "For each of the the following questions write an assignment statement that uses the four given values to assign the value 24 to a variable and then print the value of that variable.  Because this is Python, you will also need to use the two extra (//, %) Python operators in your expressions."
   ]
  },
  {
   "cell_type": "markdown",
   "metadata": {
    "deletable": false,
    "editable": false,
    "run_control": {
     "frozen": true
    }
   },
   "source": [
    "__Q15:__ 8, 6, 4, 3"
   ]
  },
  {
   "cell_type": "code",
   "execution_count": 38,
   "metadata": {},
   "outputs": [
    {
     "name": "stdout",
     "output_type": "stream",
     "text": [
      "24\n"
     ]
    }
   ],
   "source": [
    "ans24a = (8 - 6) * 4 * 3\n",
    "print(ans24a)"
   ]
  },
  {
   "cell_type": "markdown",
   "metadata": {
    "deletable": false,
    "editable": false,
    "run_control": {
     "frozen": true
    }
   },
   "source": [
    "__Q16:__ 13, 4, 7, 3  (Hint: you'll neee to use `\\\\`)"
   ]
  },
  {
   "cell_type": "code",
   "execution_count": 41,
   "metadata": {},
   "outputs": [
    {
     "name": "stdout",
     "output_type": "stream",
     "text": [
      "24\n"
     ]
    }
   ],
   "source": [
    "ans24b = 7 * 4 - (13 // 3)\n",
    "print(ans24b)"
   ]
  },
  {
   "cell_type": "markdown",
   "metadata": {
    "deletable": false,
    "editable": false,
    "run_control": {
     "frozen": true
    }
   },
   "source": [
    "__Q17:__ 10, 5, 6, 5 (Hint: you'll need to use `%`)"
   ]
  },
  {
   "cell_type": "code",
   "execution_count": 46,
   "metadata": {},
   "outputs": [
    {
     "name": "stdout",
     "output_type": "stream",
     "text": [
      "24\n"
     ]
    }
   ],
   "source": [
    "ans24c = 5 * 5 - (10 // 6)\n",
    "print(ans24c)"
   ]
  },
  {
   "cell_type": "markdown",
   "metadata": {
    "deletable": false,
    "editable": false,
    "run_control": {
     "frozen": true
    }
   },
   "source": [
    "Notice that what expressions so is manipulate values to produce another value. Variables have values.  So, it is possible to use the values of variables in expressions. For example, consider the Python statements in the following code cell.  They compute and print the area of a triangle with with side lengths given by `side_a` and `side_b`. Try running the code cell.  Then change the values of `side_a` and `side_b` and run it again."
   ]
  },
  {
   "cell_type": "code",
   "execution_count": 45,
   "metadata": {
    "deletable": false,
    "editable": false
   },
   "outputs": [
    {
     "name": "stdout",
     "output_type": "stream",
     "text": [
      "27.5\n"
     ]
    }
   ],
   "source": [
    "side_a=5\n",
    "side_b=9\n",
    "triangle_area=(a*b)/2\n",
    "print(triangle_area)"
   ]
  },
  {
   "cell_type": "markdown",
   "metadata": {
    "deletable": false,
    "editable": false,
    "run_control": {
     "frozen": true
    }
   },
   "source": [
    "__Q18:__ Write python statements similar to those above that computes and prints the perimiter of a hexagon with side length 7.  Be sure to use descriptive variable names."
   ]
  },
  {
   "cell_type": "code",
   "execution_count": 47,
   "metadata": {},
   "outputs": [
    {
     "name": "stdout",
     "output_type": "stream",
     "text": [
      "42\n"
     ]
    }
   ],
   "source": [
    "hex_side = 7\n",
    "hex_perim = hex_side * 6\n",
    "print(hex_perim)"
   ]
  },
  {
   "cell_type": "markdown",
   "metadata": {
    "deletable": false,
    "editable": false,
    "run_control": {
     "frozen": true
    }
   },
   "source": [
    "__Q19:__ Write python statements that compute and display the number of minutes in 5 years, 13 days and 6 hours.  Use as many descriptive variables as you want to make your program easy to understand.  You may ignore leap years."
   ]
  },
  {
   "cell_type": "code",
   "execution_count": 52,
   "metadata": {},
   "outputs": [
    {
     "name": "stdout",
     "output_type": "stream",
     "text": [
      "2647080\n"
     ]
    }
   ],
   "source": [
    "# Minimum number of variables\n",
    "example_hours = 6\n",
    "example_days = 13\n",
    "example_years = 5\n",
    "\n",
    "example_minutes = example_hours * 60 + example_days * 24 * 60 + example_years * 365 * 24 * 60\n",
    "\n",
    "print(example_minutes)\n",
    "\n"
   ]
  },
  {
   "cell_type": "code",
   "execution_count": 64,
   "metadata": {},
   "outputs": [
    {
     "name": "stdout",
     "output_type": "stream",
     "text": [
      "2647080\n"
     ]
    }
   ],
   "source": [
    "# A difficult to read program using 6 variables\n",
    "example_hours = 6\n",
    "example_days = 13\n",
    "example_years = 5\n",
    "year_to_days = 365\n",
    "day_to_hours = 24\n",
    "hour_to_minutes = 60\n",
    "\n",
    "example_minutes = example_hours * hour_to_minutes + example_days * day_to_hours * hour_to_minutes + example_years * year_to_days * day_to_hours * hour_to_minutes\n",
    "\n",
    "print(example_minutes)"
   ]
  },
  {
   "cell_type": "code",
   "execution_count": 57,
   "metadata": {},
   "outputs": [
    {
     "name": "stdout",
     "output_type": "stream",
     "text": [
      "2647080\n"
     ]
    }
   ],
   "source": [
    "# A better use of 6 variables\n",
    "example_hours = 6\n",
    "example_days = 13\n",
    "example_years = 5\n",
    "year_to_minutes = 365 * 24 * 60\n",
    "day_to_minutes = 24 * 60\n",
    "hour_to_minutes = 60\n",
    "\n",
    "example_minutes = example_hours * hour_to_minutes + example_days * day_to_minutes + example_years * year_to_minutes\n",
    "\n",
    "print(example_minutes)"
   ]
  },
  {
   "cell_type": "markdown",
   "metadata": {
    "deletable": false,
    "editable": false,
    "run_control": {
     "frozen": true
    }
   },
   "source": [
    "__Q20:__ Consider the Python statements in the code cell below.  They compute the same result as you were asked to compute in __Q19__.  Does it matter to the Python Interpreter what names you use for your variables? Which of the programs, yours in __Q19__ or the one below would be easier for another programmer (possibly even you a few weeks or months from now) to understand?"
   ]
  },
  {
   "cell_type": "code",
   "execution_count": 55,
   "metadata": {
    "deletable": false,
    "editable": false
   },
   "outputs": [
    {
     "name": "stdout",
     "output_type": "stream",
     "text": [
      "2647080\n"
     ]
    }
   ],
   "source": [
    "x=5\n",
    "y=13\n",
    "z=6\n",
    "n=5*365*24*60 + 13*24*60 + 6*60\n",
    "print(n)"
   ]
  },
  {
   "cell_type": "markdown",
   "metadata": {},
   "source": [
    "The program above is simple to read but it is impossible to be sure of its particular meaning or purpose because the variables do not identify themselves in any way.\n",
    "\n",
    "Any of the 3 solutions given for Q19 above would be superior to the Q20 statements because the variable names make it easy to understand the goal of the program. (The goal of example 2 from Q19 might take longer to figure out because the calculation is more sprawling than it needs to be.)"
   ]
  },
  {
   "cell_type": "markdown",
   "metadata": {
    "deletable": false,
    "editable": false,
    "run_control": {
     "frozen": true
    }
   },
   "source": [
    "__Q21:__ Give at least two reasons why it is beneficial to use descriptive variables in your programs."
   ]
  },
  {
   "cell_type": "markdown",
   "metadata": {},
   "source": [
    "1. Variables that effectively describe their values make the purpose and goals of a program easy to understand.\n",
    "2. When using multiple variables in a program, descriptive variables prevent confusion about the values used in statements.\n",
    "3. Descriptive variables can help you to use the correct variable in any statement."
   ]
  },
  {
   "cell_type": "markdown",
   "metadata": {
    "deletable": false,
    "editable": false,
    "run_control": {
     "frozen": true
    }
   },
   "source": [
    "### Optional Exercises"
   ]
  },
  {
   "cell_type": "markdown",
   "metadata": {
    "deletable": false,
    "editable": false,
    "run_control": {
     "frozen": true
    }
   },
   "source": [
    "__E1:__ Write Python statements that compute and print the temperature in degrees Celsius that corresponds to 28.4 degrees Fahrenheit. Be sure to use variable names that make your program easier to understand."
   ]
  },
  {
   "cell_type": "code",
   "execution_count": 61,
   "metadata": {},
   "outputs": [
    {
     "name": "stdout",
     "output_type": "stream",
     "text": [
      "-2.000000000000001\n"
     ]
    }
   ],
   "source": [
    "deg_far = 28.4\n",
    "deg_cel_from_far = (deg_far - 32) / 1.8\n",
    "print(deg_cel_from_far)"
   ]
  },
  {
   "cell_type": "markdown",
   "metadata": {
    "deletable": false,
    "editable": false,
    "run_control": {
     "frozen": true
    }
   },
   "source": [
    "__E2:__ Write Python statements that compute and print the temperature in degrees Kelvin that corresponds to 28.4 degrees Fahrenheit. Be sure to use variable names that make your program easier to understand."
   ]
  },
  {
   "cell_type": "code",
   "execution_count": 63,
   "metadata": {},
   "outputs": [
    {
     "name": "stdout",
     "output_type": "stream",
     "text": [
      "271.15\n"
     ]
    }
   ],
   "source": [
    "deg_far = 28.4\n",
    "deg_cel_from_far = (deg_far - 32) / 1.8\n",
    "deg_kel_from_far = deg_cel_from_far + 273.15\n",
    "print(deg_kel_from_far)"
   ]
  },
  {
   "cell_type": "markdown",
   "metadata": {
    "deletable": false,
    "editable": false,
    "run_control": {
     "frozen": true
    }
   },
   "source": [
    "__E3:__ Repeat __Q19__ assuming a leap year occurs exactly every 4 years (which [isn't exactly right](https://www.timeanddate.com/date/leapyear.html).)"
   ]
  },
  {
   "cell_type": "code",
   "execution_count": 65,
   "metadata": {},
   "outputs": [
    {
     "name": "stdout",
     "output_type": "stream",
     "text": [
      "2648880.0\n"
     ]
    }
   ],
   "source": [
    "# A better use of 6 variables\n",
    "example_hours = 6\n",
    "example_days = 13\n",
    "example_years = 5\n",
    "year_to_minutes = 365.25 * 24 * 60\n",
    "day_to_minutes = 24 * 60\n",
    "hour_to_minutes = 60\n",
    "\n",
    "example_minutes = example_hours * hour_to_minutes + example_days * day_to_minutes + example_years * year_to_minutes\n",
    "\n",
    "print(example_minutes)"
   ]
  }
 ],
 "metadata": {
  "kernelspec": {
   "display_name": "Python 3",
   "language": "python",
   "name": "python3"
  },
  "language_info": {
   "codemirror_mode": {
    "name": "ipython",
    "version": 3
   },
   "file_extension": ".py",
   "mimetype": "text/x-python",
   "name": "python",
   "nbconvert_exporter": "python",
   "pygments_lexer": "ipython3",
   "version": "3.7.3"
  }
 },
 "nbformat": 4,
 "nbformat_minor": 2
}
